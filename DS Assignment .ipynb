{
 "cells": [
  {
   "cell_type": "code",
   "execution_count": null,
   "id": "5b746213",
   "metadata": {},
   "outputs": [],
   "source": [
    "Delete the elements in an linked list whose sum is equal to zero"
   ]
  },
  {
   "cell_type": "code",
   "execution_count": 1,
   "id": "6d6de1fc",
   "metadata": {},
   "outputs": [
    {
     "name": "stdout",
     "output_type": "stream",
     "text": [
      "[20, 25]\n"
     ]
    }
   ],
   "source": [
    "class Node():\n",
    "  def __init__(self,data):\n",
    "     self.data = data\n",
    "     self.next = None\n",
    "\n",
    "class Linkedlist():\n",
    "   def __init__(self):\n",
    "     self.head = None\n",
    "    \n",
    "   def append(self,data):\n",
    "     new_node = Node(data)\n",
    "     h = self.head\n",
    "     if self.head is None:\n",
    "         self.head = new_node\n",
    "         return\n",
    "     else:\n",
    "         while h.next!=None:\n",
    "             h = h.next\n",
    "         h.next = new_node\n",
    "\n",
    "   def remove_zeros_from_linkedlist(self, head):\n",
    "     stack = []\n",
    "     curr = head\n",
    "     list = []\n",
    "     while (curr):\n",
    "         if curr.data >= 0:\n",
    "             stack.append(curr)\n",
    "         else:\n",
    "             temp = curr\n",
    "             sum = temp.data\n",
    "             flag = False\n",
    "             while (len(stack) != 0):\n",
    "                 temp2 = stack.pop()\n",
    "                 sum += temp2.data\n",
    "                 if sum == 0:\n",
    "                     flag = True\n",
    "                     list = []\n",
    "                     break\n",
    "                 elif sum > 0:\n",
    "                     list.append(temp2)\n",
    "             if not flag:\n",
    "                 if len(list) > 0:\n",
    "                     for i in range(len(list)):\n",
    "                         stack.append(list.pop())\n",
    "                 stack.append(temp)\n",
    "         curr = curr.next\n",
    "     return [i.data for i in stack]\n",
    "\n",
    "if __name__ == \"__main__\":\n",
    " l = Linkedlist()\n",
    "\n",
    " l.append(4)\n",
    " l.append(6)\n",
    " l.append(-10)\n",
    " l.append(8)\n",
    " l.append(9)\n",
    " l.append(10)\n",
    " l.append(-19)\n",
    " l.append(10)\n",
    " l.append(-18)\n",
    " l.append(20)\n",
    " l.append(25)\n",
    " print(l.remove_zeros_from_linkedlist(l.head))"
   ]
  },
  {
   "cell_type": "code",
   "execution_count": null,
   "id": "5beae599",
   "metadata": {},
   "outputs": [],
   "source": [
    "Reverse a linked list in groups of given size"
   ]
  },
  {
   "cell_type": "code",
   "execution_count": 2,
   "id": "0881459f",
   "metadata": {},
   "outputs": [
    {
     "name": "stdout",
     "output_type": "stream",
     "text": [
      "Given linked list\n",
      "1 2 3 4 5 6 7 8 9 \n",
      "Reversed Linked list\n",
      "3 2 1 6 5 4 9 8 7 "
     ]
    }
   ],
   "source": [
    "class Node:\n",
    " \n",
    "    \n",
    "    def __init__(self, data):\n",
    "        self.data = data\n",
    "        self.next = None\n",
    " \n",
    " \n",
    "class LinkedList:\n",
    " \n",
    "   \n",
    "    def __init__(self):\n",
    "        self.head = None\n",
    " \n",
    "    def reverse(self, head, k):\n",
    "       \n",
    "        if head == None:\n",
    "          return None\n",
    "        current = head\n",
    "        next = None\n",
    "        prev = None\n",
    "        count = 0\n",
    " \n",
    "        \n",
    "        while(current is not None and count < k):\n",
    "            next = current.next\n",
    "            current.next = prev\n",
    "            prev = current\n",
    "            current = next\n",
    "            count += 1\n",
    " \n",
    "\n",
    "        if next is not None:\n",
    "            head.next = self.reverse(next, k)\n",
    " \n",
    "        \n",
    "        return prev\n",
    " \n",
    "    \n",
    "    def push(self, new_data):\n",
    "        new_node = Node(new_data)\n",
    "        new_node.next = self.head\n",
    "        self.head = new_node\n",
    " \n",
    "    \n",
    "    def printList(self):\n",
    "        temp = self.head\n",
    "        while(temp):\n",
    "            print(temp.data,end=' ')\n",
    "            temp = temp.next\n",
    " \n",
    " \n",
    "# Driver program\n",
    "llist = LinkedList()\n",
    "llist.push(9)\n",
    "llist.push(8)\n",
    "llist.push(7)\n",
    "llist.push(6)\n",
    "llist.push(5)\n",
    "llist.push(4)\n",
    "llist.push(3)\n",
    "llist.push(2)\n",
    "llist.push(1)\n",
    " \n",
    "print(\"Given linked list\")\n",
    "llist.printList()\n",
    "llist.head = llist.reverse(llist.head, 3)\n",
    " \n",
    "print (\"\\nReversed Linked list\")\n",
    "llist.printList()\n"
   ]
  },
  {
   "cell_type": "code",
   "execution_count": null,
   "id": "4e93f3c9",
   "metadata": {},
   "outputs": [],
   "source": [
    "Merge a linked list into another linked list at alternate positions."
   ]
  },
  {
   "cell_type": "code",
   "execution_count": 3,
   "id": "0677dc08",
   "metadata": {},
   "outputs": [
    {
     "name": "stdout",
     "output_type": "stream",
     "text": [
      "First Linked List:\n",
      "0\n",
      "1\n",
      "2\n",
      "3\n",
      "Second Linked List:\n",
      "4\n",
      "5\n",
      "6\n",
      "7\n",
      "8\n",
      "Modified first linked list:\n",
      "0\n",
      "4\n",
      "1\n",
      "5\n",
      "2\n",
      "6\n",
      "3\n",
      "7\n",
      "Modified second linked list:\n",
      "8\n"
     ]
    }
   ],
   "source": [
    "class Node(object):\n",
    "    def __init__(self, data:int):\n",
    "        self.data = data\n",
    "        self.next = None\n",
    " \n",
    " \n",
    "class LinkedList(object):\n",
    "    def __init__(self):\n",
    "        self.head = None\n",
    "         \n",
    "    def push(self, new_data:int):\n",
    "        new_node = Node(new_data)\n",
    "        new_node.next = self.head\n",
    "        # 4. Move the head to point to new Node\n",
    "        self.head = new_node\n",
    "         \n",
    "    \n",
    "    def printList(self):\n",
    "        temp = self.head\n",
    "        while temp != None:\n",
    "            print(temp.data)\n",
    "            temp = temp.next\n",
    "             \n",
    "\n",
    "    def merge(self, p, q):\n",
    "        p_curr = p.head\n",
    "        q_curr = q.head\n",
    " \n",
    "        # swap their positions until one finishes off\n",
    "        while p_curr != None and q_curr != None:\n",
    " \n",
    "            # Save next pointers\n",
    "            p_next = p_curr.next\n",
    "            q_next = q_curr.next\n",
    " \n",
    "            # make q_curr as next of p_curr\n",
    "            q_curr.next = p_next  # change next pointer of q_curr\n",
    "            p_curr.next = q_curr  # change next pointer of p_curr\n",
    " \n",
    "            # update current pointers for next iteration\n",
    "            p_curr = p_next\n",
    "            q_curr = q_next\n",
    "            q.head = q_curr\n",
    " \n",
    " \n",
    " \n",
    "\n",
    "llist1 = LinkedList()\n",
    "llist2 = LinkedList()\n",
    " \n",
    "# Creating LLs\n",
    " \n",
    "# 1.\n",
    "llist1.push(3)\n",
    "llist1.push(2)\n",
    "llist1.push(1)\n",
    "llist1.push(0)\n",
    " \n",
    "# 2.\n",
    "for i in range(8, 3, -1):\n",
    "    llist2.push(i)\n",
    " \n",
    "print(\"First Linked List:\")\n",
    "llist1.printList()\n",
    " \n",
    "print(\"Second Linked List:\")\n",
    "llist2.printList()\n",
    " \n",
    "\n",
    "llist1.merge(p=llist1, q=llist2)\n",
    " \n",
    "print(\"Modified first linked list:\")\n",
    "llist1.printList()\n",
    " \n",
    "print(\"Modified second linked list:\")\n",
    "llist2.printList()"
   ]
  },
  {
   "cell_type": "code",
   "execution_count": null,
   "id": "7cbf36e2",
   "metadata": {},
   "outputs": [],
   "source": [
    "In an array, Count Pairs with given sum"
   ]
  },
  {
   "cell_type": "code",
   "execution_count": 4,
   "id": "f8f0cb18",
   "metadata": {},
   "outputs": [
    {
     "name": "stdout",
     "output_type": "stream",
     "text": [
      "Count of pairs is 3\n"
     ]
    }
   ],
   "source": [
    "def getPairsCount(arr, n, sum):\n",
    " \n",
    "    count = 0  \n",
    " \n",
    "\n",
    "    for i in range(0, n):\n",
    "        for j in range(i + 1, n):\n",
    "            if arr[i] + arr[j] == sum:\n",
    "                count += 1\n",
    " \n",
    "    return count\n",
    " \n",
    " \n",
    "# Driver function\n",
    "arr = [1, 5, 7, -1, 5]\n",
    "n = len(arr)\n",
    "sum = 6\n",
    "print(\"Count of pairs is\",\n",
    "      getPairsCount(arr, n, sum))"
   ]
  },
  {
   "cell_type": "code",
   "execution_count": null,
   "id": "8a7f6599",
   "metadata": {},
   "outputs": [],
   "source": [
    "Find duplicates in an array"
   ]
  },
  {
   "cell_type": "code",
   "execution_count": 5,
   "id": "4476f355",
   "metadata": {},
   "outputs": [
    {
     "name": "stdout",
     "output_type": "stream",
     "text": [
      "The repeating elements are : \n",
      "2  \n",
      "3  \n"
     ]
    }
   ],
   "source": [
    "numRay = [0, 4, 3, 2, 7, 8, 2, 3, 1]\n",
    "arr_size = len(numRay)\n",
    "for i in range(arr_size):\n",
    " \n",
    "    x = numRay[i] % arr_size\n",
    "    numRay[x] = numRay[x] + arr_size\n",
    " \n",
    "print(\"The repeating elements are : \")\n",
    "for i in range(arr_size):\n",
    "    if (numRay[i] >= arr_size*2):\n",
    "        print(i, \" \")"
   ]
  },
  {
   "cell_type": "code",
   "execution_count": null,
   "id": "d7680fb8",
   "metadata": {},
   "outputs": [],
   "source": [
    "Find the Kth largest and Kth smallest number in an array"
   ]
  },
  {
   "cell_type": "code",
   "execution_count": 6,
   "id": "64de6209",
   "metadata": {},
   "outputs": [
    {
     "name": "stdout",
     "output_type": "stream",
     "text": [
      "Enter the number of elements: 4\n",
      "Enter the array elements\n",
      "15\n",
      "30\n",
      "2\n",
      "68\n",
      "Enter the value of k: 2\n",
      "Enter 1 for kth largest or 0 for kth smallest: 0\n",
      "\n",
      "The sorted elements: 2 15 30 68 \n",
      "The  2 th smallest element is:  15\n"
     ]
    }
   ],
   "source": [
    "a=[]\n",
    "n=int(input(\"Enter the number of elements: \"))\n",
    "print(\"Enter the array elements\")\n",
    "for i in range(0,n):\n",
    "    a.append(int(input()))\n",
    "k=int(input(\"Enter the value of k: \"))\n",
    "l=int(input(\"Enter 1 for kth largest or 0 for kth smallest: \"))\n",
    "\n",
    "for i in range(0,n):\n",
    "    for j in range(0,n-i-1):\n",
    "        if(a[j]>a[j+1]):\n",
    "            t=a[j]\n",
    "            a[j]=a[j+1]\n",
    "            a[j+1]=t\n",
    "            \n",
    "\n",
    "print(\"\\nThe sorted elements:\",end=\" \")\n",
    "for i in range(0,n):\n",
    "    print(a[i],end=\" \")\n",
    "    \n",
    "\n",
    "if l==1:\n",
    "    for i in range(n-1,n-k-1,-1):\n",
    "        m=0\n",
    "    print(\"\\nThe \",k,\"th largest element is: \",a[i])\n",
    "    \n",
    "\n",
    "else:\n",
    "    for i in range(0,k):\n",
    "        m=0\n",
    "    print(\"\\nThe \",k,\"th smallest element is: \",a[i])"
   ]
  },
  {
   "cell_type": "code",
   "execution_count": null,
   "id": "861f434b",
   "metadata": {},
   "outputs": [],
   "source": [
    "Move all the negative elements to one side of the array"
   ]
  },
  {
   "cell_type": "code",
   "execution_count": 7,
   "id": "fb884e94",
   "metadata": {},
   "outputs": [
    {
     "name": "stdout",
     "output_type": "stream",
     "text": [
      "-7 -3 -1 2 4 5 6 8 9 "
     ]
    }
   ],
   "source": [
    "def move(arr):\n",
    "  arr.sort()\n",
    " \n",
    "# driver code\n",
    "arr = [ -1, 2, -3, 4, 5, 6, -7, 8, 9 ]\n",
    "move(arr)\n",
    "for e in arr:\n",
    "    print(e , end = \" \")"
   ]
  },
  {
   "cell_type": "code",
   "execution_count": null,
   "id": "4296b557",
   "metadata": {},
   "outputs": [],
   "source": [
    "Reverse a string using a stack data structure"
   ]
  },
  {
   "cell_type": "code",
   "execution_count": 8,
   "id": "f72b7575",
   "metadata": {},
   "outputs": [
    {
     "name": "stdout",
     "output_type": "stream",
     "text": [
      "Reversed string is adoYdE\n"
     ]
    }
   ],
   "source": [
    "def createStack():\n",
    "    stack=[]\n",
    "    return stack\n",
    " \n",
    "\n",
    "def size(stack):\n",
    "    return len(stack)\n",
    " \n",
    "\n",
    "def isEmpty(stack):\n",
    "    if size(stack) == 0:\n",
    "        return true\n",
    " \n",
    "\n",
    "# It increases size by 1\n",
    "def push(stack,item):\n",
    "    stack.append(item)\n",
    " \n",
    "\n",
    "\n",
    "def pop(stack):\n",
    "    if isEmpty(stack): return\n",
    "    return stack.pop()\n",
    " \n",
    "\n",
    "def reverse(string):\n",
    "    n = len(string)\n",
    "     \n",
    "   \n",
    "    stack = createStack()\n",
    " \n",
    "    \n",
    "    for i in range(0,n,1):\n",
    "        push(stack,string[i])\n",
    " \n",
    "    \n",
    "    string=\"\"\n",
    " \n",
    "\n",
    "    for i in range(0,n,1):\n",
    "        string+=pop(stack)\n",
    "         \n",
    "    return string\n",
    "     \n",
    "\n",
    "string=\"EdYoda\"\n",
    "string = reverse(string)\n",
    "print(\"Reversed string is \" + string)"
   ]
  },
  {
   "cell_type": "code",
   "execution_count": null,
   "id": "5f9ff282",
   "metadata": {},
   "outputs": [],
   "source": [
    "Evaluate a postfix expression using stack"
   ]
  },
  {
   "cell_type": "code",
   "execution_count": 9,
   "id": "0381d8b2",
   "metadata": {},
   "outputs": [
    {
     "name": "stdout",
     "output_type": "stream",
     "text": [
      "757\n"
     ]
    }
   ],
   "source": [
    "class evalpostfix:\n",
    "    def __init__(self):\n",
    "        self.stack =[]\n",
    "        self.top =-1\n",
    "    def pop(self):\n",
    "        if self.top ==-1:\n",
    "            return\n",
    "        else:\n",
    "            self.top-= 1\n",
    "            return self.stack.pop()\n",
    "    def push(self, i):\n",
    "        self.top+= 1\n",
    "        self.stack.append(i)\n",
    " \n",
    "    def centralfunc(self, ab):\n",
    "        for i in ab:\n",
    " \n",
    "            \n",
    "            try:\n",
    "                self.push(int(i))\n",
    "           \n",
    "            except ValueError:\n",
    "                val1 = self.pop()\n",
    "                val2 = self.pop()\n",
    "                if i == '/':\n",
    "                  self.push(val2 / val1)\n",
    "                else:       \n",
    "                \n",
    "                  switcher ={'+':val2 + val1, '-':val2-val1, '*':val2 * val1, '^':val2**val1}\n",
    "                  self.push(switcher.get(i))\n",
    "        return int(self.pop())\n",
    " \n",
    "str ='100 200 + 2 / 5 * 7 +'\n",
    " \n",
    "\n",
    "strconv = str.split(' ')\n",
    "obj = evalpostfix()\n",
    "print(obj.centralfunc(strconv))"
   ]
  },
  {
   "cell_type": "code",
   "execution_count": null,
   "id": "50a47870",
   "metadata": {},
   "outputs": [],
   "source": [
    "Implement a queue using the stack data structure"
   ]
  },
  {
   "cell_type": "code",
   "execution_count": 14,
   "id": "56170223",
   "metadata": {},
   "outputs": [
    {
     "name": "stdout",
     "output_type": "stream",
     "text": [
      "15\n",
      "2\n",
      "30\n"
     ]
    }
   ],
   "source": [
    "class Queue:\n",
    "    def __init__(self):\n",
    "        self.s1 = []\n",
    "        self.s2 = []\n",
    "  \n",
    "    \n",
    "    def enQueue(self, x):\n",
    "        self.s1.append(x)\n",
    "  \n",
    "   \n",
    "    def deQueue(self):\n",
    "  \n",
    "        \n",
    "        if len(self.s1) == 0 and len(self.s2) == 0:\n",
    "            print(\"Q is Empty\")\n",
    "            return\n",
    "  \n",
    "       \n",
    "        elif len(self.s2) == 0 and len(self.s1) > 0:\n",
    "            while len(self.s1):\n",
    "                temp = self.s1.pop()\n",
    "                self.s2.append(temp)\n",
    "            return self.s2.pop()\n",
    "  \n",
    "        else:\n",
    "            return self.s2.pop()\n",
    "  \n",
    "   \n",
    "if __name__ == '__main__':\n",
    "    q = Queue()\n",
    "    q.enQueue(15)\n",
    "    q.enQueue(2)\n",
    "    q.enQueue(30)\n",
    "  \n",
    "    print(q.deQueue())\n",
    "    print(q.deQueue())\n",
    "    print(q.deQueue())"
   ]
  },
  {
   "cell_type": "code",
   "execution_count": null,
   "id": "642c6dc0",
   "metadata": {},
   "outputs": [],
   "source": []
  }
 ],
 "metadata": {
  "kernelspec": {
   "display_name": "Python 3 (ipykernel)",
   "language": "python",
   "name": "python3"
  },
  "language_info": {
   "codemirror_mode": {
    "name": "ipython",
    "version": 3
   },
   "file_extension": ".py",
   "mimetype": "text/x-python",
   "name": "python",
   "nbconvert_exporter": "python",
   "pygments_lexer": "ipython3",
   "version": "3.9.12"
  }
 },
 "nbformat": 4,
 "nbformat_minor": 5
}
